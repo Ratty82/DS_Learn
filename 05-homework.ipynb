{
 "cells": [
  {
   "cell_type": "markdown",
   "id": "f7b70e99",
   "metadata": {},
   "source": [
    "# Easy\n",
    "Вычислить вероятность выживания, если пассажиру:\n",
    "\n",
    "от 0 до 25 лет\n",
    "от 25 до 50 лет\n",
    "от 50 лет и старше\n",
    "\n",
    "# Normal\n",
    "Вычислить с какой вероятностью пассажир женского пола, если известно, что он выжил (использовать теорему Байеса)\n",
    "\n",
    "# Normal+\n",
    "Необходимо реализовать градиентный спуск с уменьшением  𝜖  для функции двух переменных.\n",
    "\n",
    "Проверить на функции  𝑓(𝑥,𝑦)=(𝑥−3)4+(𝑦+5)2 . Начать из точки (5, 2).\n",
    "\n",
    "Проверить свое решение на готовых функциях минимизации.\n",
    "\n",
    "# Hard\n",
    "Закон распределения задается функцией плотности\n",
    "\n",
    "𝑓(𝑥)=𝜆𝑒−𝜆𝑥,𝑥>0 \n",
    "𝑓(𝑥)=0,𝑥<=0 \n",
    "Найти вероятность того, что событие произойдет при  𝑥∈[1,2] \n",
    "P.S. в scipy есть функция для интегрирования функции"
   ]
  },
  {
   "cell_type": "markdown",
   "id": "895be162",
   "metadata": {},
   "source": [
    "-----------------------------------------------------------------------------------------------------------------"
   ]
  },
  {
   "cell_type": "markdown",
   "id": "b95f2a42",
   "metadata": {},
   "source": [
    "# Easy\n",
    "Вычислить вероятность выживания, если пассажиру:\n",
    "от 0 до 25 лет от 25 до 50 лет от 50 лет и старше"
   ]
  },
  {
   "cell_type": "code",
   "execution_count": 26,
   "id": "cab30bbe",
   "metadata": {
    "scrolled": true
   },
   "outputs": [
    {
     "data": {
      "text/html": [
       "<div>\n",
       "<style scoped>\n",
       "    .dataframe tbody tr th:only-of-type {\n",
       "        vertical-align: middle;\n",
       "    }\n",
       "\n",
       "    .dataframe tbody tr th {\n",
       "        vertical-align: top;\n",
       "    }\n",
       "\n",
       "    .dataframe thead th {\n",
       "        text-align: right;\n",
       "    }\n",
       "</style>\n",
       "<table border=\"1\" class=\"dataframe\">\n",
       "  <thead>\n",
       "    <tr style=\"text-align: right;\">\n",
       "      <th></th>\n",
       "      <th>PassengerId</th>\n",
       "      <th>Survived</th>\n",
       "      <th>Pclass</th>\n",
       "      <th>Name</th>\n",
       "      <th>Sex</th>\n",
       "      <th>Age</th>\n",
       "      <th>SibSp</th>\n",
       "      <th>Parch</th>\n",
       "      <th>Ticket</th>\n",
       "      <th>Fare</th>\n",
       "      <th>Cabin</th>\n",
       "      <th>Embarked</th>\n",
       "    </tr>\n",
       "  </thead>\n",
       "  <tbody>\n",
       "    <tr>\n",
       "      <th>0</th>\n",
       "      <td>1</td>\n",
       "      <td>0</td>\n",
       "      <td>3</td>\n",
       "      <td>Braund, Mr. Owen Harris</td>\n",
       "      <td>male</td>\n",
       "      <td>22.0</td>\n",
       "      <td>1</td>\n",
       "      <td>0</td>\n",
       "      <td>A/5 21171</td>\n",
       "      <td>7.2500</td>\n",
       "      <td>NaN</td>\n",
       "      <td>S</td>\n",
       "    </tr>\n",
       "    <tr>\n",
       "      <th>1</th>\n",
       "      <td>2</td>\n",
       "      <td>1</td>\n",
       "      <td>1</td>\n",
       "      <td>Cumings, Mrs. John Bradley (Florence Briggs Th...</td>\n",
       "      <td>female</td>\n",
       "      <td>38.0</td>\n",
       "      <td>1</td>\n",
       "      <td>0</td>\n",
       "      <td>PC 17599</td>\n",
       "      <td>71.2833</td>\n",
       "      <td>C85</td>\n",
       "      <td>C</td>\n",
       "    </tr>\n",
       "    <tr>\n",
       "      <th>2</th>\n",
       "      <td>3</td>\n",
       "      <td>1</td>\n",
       "      <td>3</td>\n",
       "      <td>Heikkinen, Miss. Laina</td>\n",
       "      <td>female</td>\n",
       "      <td>26.0</td>\n",
       "      <td>0</td>\n",
       "      <td>0</td>\n",
       "      <td>STON/O2. 3101282</td>\n",
       "      <td>7.9250</td>\n",
       "      <td>NaN</td>\n",
       "      <td>S</td>\n",
       "    </tr>\n",
       "    <tr>\n",
       "      <th>3</th>\n",
       "      <td>4</td>\n",
       "      <td>1</td>\n",
       "      <td>1</td>\n",
       "      <td>Futrelle, Mrs. Jacques Heath (Lily May Peel)</td>\n",
       "      <td>female</td>\n",
       "      <td>35.0</td>\n",
       "      <td>1</td>\n",
       "      <td>0</td>\n",
       "      <td>113803</td>\n",
       "      <td>53.1000</td>\n",
       "      <td>C123</td>\n",
       "      <td>S</td>\n",
       "    </tr>\n",
       "    <tr>\n",
       "      <th>4</th>\n",
       "      <td>5</td>\n",
       "      <td>0</td>\n",
       "      <td>3</td>\n",
       "      <td>Allen, Mr. William Henry</td>\n",
       "      <td>male</td>\n",
       "      <td>35.0</td>\n",
       "      <td>0</td>\n",
       "      <td>0</td>\n",
       "      <td>373450</td>\n",
       "      <td>8.0500</td>\n",
       "      <td>NaN</td>\n",
       "      <td>S</td>\n",
       "    </tr>\n",
       "  </tbody>\n",
       "</table>\n",
       "</div>"
      ],
      "text/plain": [
       "   PassengerId  Survived  Pclass  \\\n",
       "0            1         0       3   \n",
       "1            2         1       1   \n",
       "2            3         1       3   \n",
       "3            4         1       1   \n",
       "4            5         0       3   \n",
       "\n",
       "                                                Name     Sex   Age  SibSp  \\\n",
       "0                            Braund, Mr. Owen Harris    male  22.0      1   \n",
       "1  Cumings, Mrs. John Bradley (Florence Briggs Th...  female  38.0      1   \n",
       "2                             Heikkinen, Miss. Laina  female  26.0      0   \n",
       "3       Futrelle, Mrs. Jacques Heath (Lily May Peel)  female  35.0      1   \n",
       "4                           Allen, Mr. William Henry    male  35.0      0   \n",
       "\n",
       "   Parch            Ticket     Fare Cabin Embarked  \n",
       "0      0         A/5 21171   7.2500   NaN        S  \n",
       "1      0          PC 17599  71.2833   C85        C  \n",
       "2      0  STON/O2. 3101282   7.9250   NaN        S  \n",
       "3      0            113803  53.1000  C123        S  \n",
       "4      0            373450   8.0500   NaN        S  "
      ]
     },
     "execution_count": 26,
     "metadata": {},
     "output_type": "execute_result"
    }
   ],
   "source": [
    "# импортируем датасет\n",
    "import numpy as np\n",
    "import pandas as pd\n",
    "import seaborn as sns\n",
    "tit_pass = pd.read_csv('/home/euegene/learn/DS_Learn/Data/train.csv')\n",
    "tit_pass.head()"
   ]
  },
  {
   "cell_type": "code",
   "execution_count": 17,
   "id": "6caf4230",
   "metadata": {},
   "outputs": [
    {
     "name": "stdout",
     "output_type": "stream",
     "text": [
      "вероятность выживания пассажиров от 0 до 25 лет  0.4244604316546763\n",
      "вероятность выживания пассажиров от 25 до 50 лет  0.41002949852507375\n",
      "вероятность выживания пассажиров старше 50 лет  0.34375\n"
     ]
    }
   ],
   "source": [
    "#вероятность выживания пассажиров от 0 до 25 лет : P(A) = (число выживших пассажиров от 0 до 25)/(число пассажиров от 0 до 25)\n",
    "P_A_025 = tit_pass[(tit_pass['Age']<25) & (tit_pass['Survived'] == 1)]['Name'].count() /tit_pass[(tit_pass['Age']<25)]['Name'].count()\n",
    "#вероятность выживания пассажиров от 25 до 50 лет : P(A) = (число выживших пассажиров от 25 до 50)/(число пассажиров от 25 до 50)\n",
    "P_A_2550 = tit_pass[(tit_pass['Age']<50) & (tit_pass['Age']>25) & (tit_pass['Survived'] == 1)]['Name'].count() / tit_pass[(tit_pass['Age']<50)&(tit_pass['Age']>25)]['Name'].count()\n",
    "#вероятность выживания пассажиров старше 50 лет : P(A) = (число выживших пассажиров старше 50)/(число пассажиров старше 50)\n",
    "P_A_50 = tit_pass[(tit_pass['Age']>50) & (tit_pass['Survived'] == 1)]['Name'].count() / tit_pass[(tit_pass['Age']>50)]['Name'].count()\n",
    "print('вероятность выживания пассажиров от 0 до 25 лет ',P_A_025)\n",
    "print('вероятность выживания пассажиров от 25 до 50 лет ',P_A_2550)\n",
    "print('вероятность выживания пассажиров старше 50 лет ',P_A_50)\n"
   ]
  },
  {
   "cell_type": "markdown",
   "id": "3b69cf64",
   "metadata": {},
   "source": [
    "# Normal\n",
    "Вычислить с какой вероятностью пассажир женского пола, если известно, что он выжил (использовать теорему Байеса)"
   ]
  },
  {
   "cell_type": "code",
   "execution_count": 25,
   "id": "9ec8be00",
   "metadata": {},
   "outputs": [
    {
     "name": "stdout",
     "output_type": "stream",
     "text": [
      "Вероятностью пассажир женского пола, если известно, что он выжил  0.709890469647653\n"
     ]
    }
   ],
   "source": [
    "# теорема Байеса: P(A|X) = P(X|A)*P(A) / P(X|A)*P(A) + P(X|notA)*P(notA)\n",
    "# задаем функцию по теореме Байеса\n",
    "def bayes(P_X_A,P_A,P_n_A,P_X_n_A):\n",
    "    P_A_X = (P_X_A*P_A)/(P_X_A*P_A + P_X_n_A*P_n_A)\n",
    "    return P_A_X\n",
    "#находим вероятности\n",
    "#P_X_A : вероятность выжить пассажира женского пола\n",
    "P_X_A = tit_pass[(tit_pass['Sex']=='female') & (tit_pass['Survived'] == 1)]['Name'].count() /tit_pass[(tit_pass['Sex']== 'female')]['Name'].count()\n",
    "#P_A : вероятность выжить пассажиров\n",
    "P_A = tit_pass[(tit_pass['Survived'] == 1)]['Name'].count() /tit_pass['Name'].count()\n",
    "#P_X_n_A : вероятность выжить пассажира мужского пола\n",
    "P_X_n_A = tit_pass[(tit_pass['Sex']=='male') & (tit_pass['Survived'] == 1)]['Name'].count() /tit_pass[(tit_pass['Sex']== 'male')]['Name'].count() \n",
    "#P_n_A : вероятность не выжить пассажиров\n",
    "P_n_A = tit_pass[(tit_pass['Survived'] == 0)]['Name'].count() /tit_pass['Name'].count()\n",
    "# Вычисляем задачу\n",
    "print('Вероятностью пассажир женского пола, если известно, что он выжил ', bayes(P_X_A,P_A,P_n_A,P_X_n_A))\n"
   ]
  },
  {
   "cell_type": "code",
   "execution_count": null,
   "id": "9f58914d",
   "metadata": {},
   "outputs": [],
   "source": []
  }
 ],
 "metadata": {
  "kernelspec": {
   "display_name": "Python 3 (ipykernel)",
   "language": "python",
   "name": "python3"
  },
  "language_info": {
   "codemirror_mode": {
    "name": "ipython",
    "version": 3
   },
   "file_extension": ".py",
   "mimetype": "text/x-python",
   "name": "python",
   "nbconvert_exporter": "python",
   "pygments_lexer": "ipython3",
   "version": "3.8.13"
  }
 },
 "nbformat": 4,
 "nbformat_minor": 5
}
