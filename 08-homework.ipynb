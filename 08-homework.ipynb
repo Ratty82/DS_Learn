{
 "cells": [
  {
   "cell_type": "markdown",
   "id": "93b9f1dd",
   "metadata": {},
   "source": [
    "# Easy\n",
    "Взять датасет с kaggle https://www.kaggle.com/datasets/uciml/iris и обучить на нем дерево решений с перебором параметров с помощью grid search. Вывести метрики качества accuracy ,presicion, recall, F1-score для лучше модели\n",
    "\n",
    "# Medium\n",
    "Провести полноценное исследование:\n",
    "\n",
    "Визуализировать данные (провести EDA)\n",
    "Если требуется, подготовить данные к обучению модели\n",
    "Обучить 4 различные модели классификации, посчитать accuracy ,presicion, recall, F1-score для каждой модели\n",
    "Проверить действительно ли есть статистическое различие между метриками качества моделей\n",
    "Выбрать лучшую модель\n",
    "\n",
    "# Hard\n",
    "Необходимо вынести лучшую модель в отдельный скрипт:\n",
    "\n",
    "Скрипт должен подгружать уже обученную модель (то есть модель делает только предсказания на данных)\n",
    "Скрипт должен принимать путь до csv файла с данными для предсказания\n",
    "Скрипт должен принимать путь до файла куда будут складываться ответы\n",
    "Рекомендации к выполнению задания:\n",
    "\n",
    "Необходимо найти информацию как сохранять и подгружать обученную модель sklearn\n",
    "Необходимо найти информацию как делать скрипты в python с параметрами (попробуйте библиотеку click)\n",
    "Запуск скрипта должен выглядеть следующим образом \"python best_model.py --path_to_data 'data_for_prediction.csv' --path_to_prediction 'predictions.csv\""
   ]
  },
  {
   "cell_type": "markdown",
   "id": "388e88f8",
   "metadata": {},
   "source": [
    "--------------------------------------------------------------------------------------------------------------\n",
    "# EASY"
   ]
  },
  {
   "cell_type": "code",
   "execution_count": 49,
   "id": "084d5453",
   "metadata": {},
   "outputs": [],
   "source": [
    "# загружаем все библиотеки\n",
    "import pandas as pd\n",
    "import matplotlib.pyplot as plt\n",
    "import seaborn as sns\n",
    "import numpy as np\n",
    "from sklearn.metrics import accuracy_score, confusion_matrix\n",
    "from sklearn.model_selection import train_test_split\n",
    "from sklearn.tree import DecisionTreeClassifier, plot_tree\n",
    "from mlxtend.plotting import category_scatter, plot_decision_regions\n",
    "from sklearn.model_selection import cross_validate, cross_val_score\n",
    "from sklearn.metrics import accuracy_score, confusion_matrix\n",
    "from sklearn.model_selection import GridSearchCV, RandomizedSearchCV\n",
    "from sklearn.ensemble import RandomForestClassifier\n",
    "from sklearn.metrics import recall_score\n",
    "from sklearn.metrics import accuracy_score\n",
    "from sklearn.metrics import precision_score\n",
    "from sklearn.metrics import f1_score\n",
    "from sklearn.svm import SVC\n",
    "from sklearn.linear_model import LogisticRegression\n",
    "from sklearn.metrics import accuracy_score, confusion_matrix"
   ]
  },
  {
   "cell_type": "code",
   "execution_count": 50,
   "id": "8e4948bc",
   "metadata": {},
   "outputs": [],
   "source": [
    "iris = pd.read_csv('/home/euegene/learn/DS_Learn/Data/iris.csv') # загружаем датасет"
   ]
  },
  {
   "cell_type": "code",
   "execution_count": 51,
   "id": "68b23a7b",
   "metadata": {},
   "outputs": [
    {
     "name": "stdout",
     "output_type": "stream",
     "text": [
      "['Iris-setosa' 'Iris-versicolor' 'Iris-virginica']\n"
     ]
    }
   ],
   "source": [
    "print(iris.Species.unique()) #смотрим уникальные значения - те, что собраемся предсказывать"
   ]
  },
  {
   "cell_type": "code",
   "execution_count": 52,
   "id": "bc831d77",
   "metadata": {},
   "outputs": [
    {
     "data": {
      "text/html": [
       "<div>\n",
       "<style scoped>\n",
       "    .dataframe tbody tr th:only-of-type {\n",
       "        vertical-align: middle;\n",
       "    }\n",
       "\n",
       "    .dataframe tbody tr th {\n",
       "        vertical-align: top;\n",
       "    }\n",
       "\n",
       "    .dataframe thead th {\n",
       "        text-align: right;\n",
       "    }\n",
       "</style>\n",
       "<table border=\"1\" class=\"dataframe\">\n",
       "  <thead>\n",
       "    <tr style=\"text-align: right;\">\n",
       "      <th></th>\n",
       "      <th>Id</th>\n",
       "      <th>SepalLengthCm</th>\n",
       "      <th>SepalWidthCm</th>\n",
       "      <th>PetalLengthCm</th>\n",
       "      <th>PetalWidthCm</th>\n",
       "      <th>Species</th>\n",
       "    </tr>\n",
       "  </thead>\n",
       "  <tbody>\n",
       "    <tr>\n",
       "      <th>0</th>\n",
       "      <td>1</td>\n",
       "      <td>5.1</td>\n",
       "      <td>3.5</td>\n",
       "      <td>1.4</td>\n",
       "      <td>0.2</td>\n",
       "      <td>Iris-setosa</td>\n",
       "    </tr>\n",
       "    <tr>\n",
       "      <th>1</th>\n",
       "      <td>2</td>\n",
       "      <td>4.9</td>\n",
       "      <td>3.0</td>\n",
       "      <td>1.4</td>\n",
       "      <td>0.2</td>\n",
       "      <td>Iris-setosa</td>\n",
       "    </tr>\n",
       "    <tr>\n",
       "      <th>2</th>\n",
       "      <td>3</td>\n",
       "      <td>4.7</td>\n",
       "      <td>3.2</td>\n",
       "      <td>1.3</td>\n",
       "      <td>0.2</td>\n",
       "      <td>Iris-setosa</td>\n",
       "    </tr>\n",
       "    <tr>\n",
       "      <th>3</th>\n",
       "      <td>4</td>\n",
       "      <td>4.6</td>\n",
       "      <td>3.1</td>\n",
       "      <td>1.5</td>\n",
       "      <td>0.2</td>\n",
       "      <td>Iris-setosa</td>\n",
       "    </tr>\n",
       "    <tr>\n",
       "      <th>4</th>\n",
       "      <td>5</td>\n",
       "      <td>5.0</td>\n",
       "      <td>3.6</td>\n",
       "      <td>1.4</td>\n",
       "      <td>0.2</td>\n",
       "      <td>Iris-setosa</td>\n",
       "    </tr>\n",
       "  </tbody>\n",
       "</table>\n",
       "</div>"
      ],
      "text/plain": [
       "   Id  SepalLengthCm  SepalWidthCm  PetalLengthCm  PetalWidthCm      Species\n",
       "0   1            5.1           3.5            1.4           0.2  Iris-setosa\n",
       "1   2            4.9           3.0            1.4           0.2  Iris-setosa\n",
       "2   3            4.7           3.2            1.3           0.2  Iris-setosa\n",
       "3   4            4.6           3.1            1.5           0.2  Iris-setosa\n",
       "4   5            5.0           3.6            1.4           0.2  Iris-setosa"
      ]
     },
     "execution_count": 52,
     "metadata": {},
     "output_type": "execute_result"
    }
   ],
   "source": [
    "iris.head() #смотрим датасет"
   ]
  },
  {
   "cell_type": "code",
   "execution_count": 53,
   "id": "dd15c570",
   "metadata": {},
   "outputs": [],
   "source": [
    "x = iris[['SepalLengthCm','SepalWidthCm','PetalLengthCm','PetalWidthCm']] #формируем данные для обучения\n",
    "y = iris[['Species']].values.ravel() #формируем цели обучения\n",
    "x_train, x_test, y_train, y_test = train_test_split(x, y) #разбиваем датасет на фрагменты"
   ]
  },
  {
   "cell_type": "code",
   "execution_count": 54,
   "id": "49cb5c40",
   "metadata": {},
   "outputs": [],
   "source": [
    "# задаем набор гиперпараметров\n",
    "params = {\n",
    "    'n_estimators': [5, 100, 500],\n",
    "    'criterion': ['gini', 'entropy'],\n",
    "    'max_depth': [5, 100, 150]\n",
    "}"
   ]
  },
  {
   "cell_type": "code",
   "execution_count": 58,
   "id": "3df82618",
   "metadata": {},
   "outputs": [
    {
     "name": "stdout",
     "output_type": "stream",
     "text": [
      "CPU times: user 11.2 s, sys: 51.9 ms, total: 11.3 s\n",
      "Wall time: 11.3 s\n"
     ]
    },
    {
     "data": {
      "text/plain": [
       "RandomForestClassifier(max_depth=100, n_estimators=5)"
      ]
     },
     "execution_count": 58,
     "metadata": {},
     "output_type": "execute_result"
    }
   ],
   "source": [
    "%%time \n",
    "#выбираем наилучшие параметры и обучаем модель\n",
    "model = GridSearchCV(RandomForestClassifier(), params)\n",
    "model.fit(x_train, y_train)\n",
    "model.best_estimator_"
   ]
  },
  {
   "cell_type": "code",
   "execution_count": 59,
   "id": "6f1662a8",
   "metadata": {},
   "outputs": [],
   "source": [
    "y_pred = model.predict(x_test) #делаем предсказание"
   ]
  },
  {
   "cell_type": "code",
   "execution_count": 60,
   "id": "07d4bfdd",
   "metadata": {},
   "outputs": [
    {
     "name": "stdout",
     "output_type": "stream",
     "text": [
      "Recall Score :  0.9666666666666667\n",
      "Accuracy :  0.9736842105263158\n",
      "Precision :  0.9824561403508771\n",
      "F1-Score :  0.9734471313418682\n"
     ]
    }
   ],
   "source": [
    "#выводим все метрики\n",
    "print(\"Recall Score : \",recall_score(y_test, y_pred, average='macro'))\n",
    "print(\"Accuracy : \", accuracy_score(y_test, y_pred))\n",
    "print(\"Precision : \", precision_score(y_test, y_pred, average='macro'))\n",
    "print(\"F1-Score : \", f1_score(y_test, y_pred, average='macro'))"
   ]
  },
  {
   "cell_type": "markdown",
   "id": "12b75c65",
   "metadata": {},
   "source": [
    "------------------------------------------------------------------------------------------------------------------\n",
    "# Normal"
   ]
  },
  {
   "cell_type": "code",
   "execution_count": 61,
   "id": "b21ed20c",
   "metadata": {},
   "outputs": [
    {
     "name": "stdout",
     "output_type": "stream",
     "text": [
      "Общая информация\n",
      "<class 'pandas.core.frame.DataFrame'>\n",
      "RangeIndex: 150 entries, 0 to 149\n",
      "Data columns (total 6 columns):\n",
      " #   Column         Non-Null Count  Dtype  \n",
      "---  ------         --------------  -----  \n",
      " 0   Id             150 non-null    int64  \n",
      " 1   SepalLengthCm  150 non-null    float64\n",
      " 2   SepalWidthCm   150 non-null    float64\n",
      " 3   PetalLengthCm  150 non-null    float64\n",
      " 4   PetalWidthCm   150 non-null    float64\n",
      " 5   Species        150 non-null    object \n",
      "dtypes: float64(4), int64(1), object(1)\n",
      "memory usage: 7.2+ KB\n"
     ]
    }
   ],
   "source": [
    "iris2 = pd.read_csv('/home/euegene/learn/DS_Learn/Data/iris.csv')\n",
    "print('Общая информация')\n",
    "iris2.info()"
   ]
  },
  {
   "cell_type": "code",
   "execution_count": 62,
   "id": "77707ff7",
   "metadata": {},
   "outputs": [
    {
     "name": "stdout",
     "output_type": "stream",
     "text": [
      "Поиск нулевых значений в датасете\n"
     ]
    },
    {
     "data": {
      "text/plain": [
       "Id               0\n",
       "SepalLengthCm    0\n",
       "SepalWidthCm     0\n",
       "PetalLengthCm    0\n",
       "PetalWidthCm     0\n",
       "Species          0\n",
       "dtype: int64"
      ]
     },
     "execution_count": 62,
     "metadata": {},
     "output_type": "execute_result"
    }
   ],
   "source": [
    "print('Поиск нулевых значений в датасете')\n",
    "iris2.isnull().sum()"
   ]
  },
  {
   "cell_type": "markdown",
   "id": "6ced7e20",
   "metadata": {},
   "source": [
    "Нулевых значений не наблюдается - данные по этому параметру готовить не нужно"
   ]
  },
  {
   "cell_type": "code",
   "execution_count": 63,
   "id": "07ffe168",
   "metadata": {},
   "outputs": [
    {
     "data": {
      "text/html": [
       "<div>\n",
       "<style scoped>\n",
       "    .dataframe tbody tr th:only-of-type {\n",
       "        vertical-align: middle;\n",
       "    }\n",
       "\n",
       "    .dataframe tbody tr th {\n",
       "        vertical-align: top;\n",
       "    }\n",
       "\n",
       "    .dataframe thead th {\n",
       "        text-align: right;\n",
       "    }\n",
       "</style>\n",
       "<table border=\"1\" class=\"dataframe\">\n",
       "  <thead>\n",
       "    <tr style=\"text-align: right;\">\n",
       "      <th></th>\n",
       "      <th>Id</th>\n",
       "      <th>SepalLengthCm</th>\n",
       "      <th>SepalWidthCm</th>\n",
       "      <th>PetalLengthCm</th>\n",
       "      <th>PetalWidthCm</th>\n",
       "      <th>Species</th>\n",
       "    </tr>\n",
       "  </thead>\n",
       "  <tbody>\n",
       "    <tr>\n",
       "      <th>0</th>\n",
       "      <td>1</td>\n",
       "      <td>5.1</td>\n",
       "      <td>3.5</td>\n",
       "      <td>1.4</td>\n",
       "      <td>0.2</td>\n",
       "      <td>Iris-setosa</td>\n",
       "    </tr>\n",
       "    <tr>\n",
       "      <th>1</th>\n",
       "      <td>2</td>\n",
       "      <td>4.9</td>\n",
       "      <td>3.0</td>\n",
       "      <td>1.4</td>\n",
       "      <td>0.2</td>\n",
       "      <td>Iris-setosa</td>\n",
       "    </tr>\n",
       "    <tr>\n",
       "      <th>2</th>\n",
       "      <td>3</td>\n",
       "      <td>4.7</td>\n",
       "      <td>3.2</td>\n",
       "      <td>1.3</td>\n",
       "      <td>0.2</td>\n",
       "      <td>Iris-setosa</td>\n",
       "    </tr>\n",
       "    <tr>\n",
       "      <th>3</th>\n",
       "      <td>4</td>\n",
       "      <td>4.6</td>\n",
       "      <td>3.1</td>\n",
       "      <td>1.5</td>\n",
       "      <td>0.2</td>\n",
       "      <td>Iris-setosa</td>\n",
       "    </tr>\n",
       "    <tr>\n",
       "      <th>4</th>\n",
       "      <td>5</td>\n",
       "      <td>5.0</td>\n",
       "      <td>3.6</td>\n",
       "      <td>1.4</td>\n",
       "      <td>0.2</td>\n",
       "      <td>Iris-setosa</td>\n",
       "    </tr>\n",
       "  </tbody>\n",
       "</table>\n",
       "</div>"
      ],
      "text/plain": [
       "   Id  SepalLengthCm  SepalWidthCm  PetalLengthCm  PetalWidthCm      Species\n",
       "0   1            5.1           3.5            1.4           0.2  Iris-setosa\n",
       "1   2            4.9           3.0            1.4           0.2  Iris-setosa\n",
       "2   3            4.7           3.2            1.3           0.2  Iris-setosa\n",
       "3   4            4.6           3.1            1.5           0.2  Iris-setosa\n",
       "4   5            5.0           3.6            1.4           0.2  Iris-setosa"
      ]
     },
     "execution_count": 63,
     "metadata": {},
     "output_type": "execute_result"
    }
   ],
   "source": [
    "iris2.head() #выведем датасет"
   ]
  },
  {
   "cell_type": "code",
   "execution_count": 64,
   "id": "e3f52822",
   "metadata": {},
   "outputs": [
    {
     "data": {
      "image/png": "[encoded data removed]",
      "text/plain": [
       "<Figure size 432x288 with 1 Axes>"
      ]
     },
     "metadata": {},
     "output_type": "display_data"
    }
   ],
   "source": [
    "#Исследуем соотношение видов ирисов в наборе\n",
    "sns.set_style('darkgrid')\n",
    "sns.countplot(y='Species',data=iris2,palette='colorblind')\n",
    "plt.xlabel('Количество')\n",
    "plt.ylabel('Вид')\n",
    "plt.show()"
   ]
  },
  {
   "cell_type": "code",
   "execution_count": 65,
   "id": "bb4a6fe8",
   "metadata": {},
   "outputs": [
    {
     "data": {
      "text/plain": [
       "Species\n",
       "Iris-setosa        50\n",
       "Iris-versicolor    50\n",
       "Iris-virginica     50\n",
       "Name: Id, dtype: int64"
      ]
     },
     "execution_count": 65,
     "metadata": {},
     "output_type": "execute_result"
    }
   ],
   "source": [
    "iris2.groupby(iris2['Species'])['Id'].count()"
   ]
  },
  {
   "cell_type": "markdown",
   "id": "40c09f45",
   "metadata": {},
   "source": [
    "Число видов в наборе одинаково, далее исследуем зависимости в датасете"
   ]
  },
  {
   "cell_type": "code",
   "execution_count": 66,
   "id": "e8694fed",
   "metadata": {},
   "outputs": [
    {
     "data": {
      "image/png": "[encoded data removed]",
      "text/plain": [
       "<Figure size 432x288 with 1 Axes>"
      ]
     },
     "metadata": {},
     "output_type": "display_data"
    }
   ],
   "source": [
    "# исследуем зависимость между длинной лепестков (petal_lenght ) и длинной чашелистика (sepal_length) у видов\n",
    "sns.set_style('darkgrid')\n",
    "plt.title('Зависимость между длинами лепестков и чашелистика',size=16)\n",
    "plt.xlabel('длина лепестков',size=12)\n",
    "plt.ylabel('длина чашелистика',size=12)\n",
    "sns.scatterplot(x='PetalLengthCm', y='SepalLengthCm', data=iris2, hue='Species', edgecolor='black', palette='cubehelix')\n",
    "plt.show()"
   ]
  },
  {
   "cell_type": "code",
   "execution_count": 67,
   "id": "8f8e951e",
   "metadata": {
    "scrolled": true
   },
   "outputs": [
    {
     "data": {
      "image/png": "[encoded data removed]",
      "text/plain": [
       "<Figure size 432x288 with 1 Axes>"
      ]
     },
     "metadata": {},
     "output_type": "display_data"
    }
   ],
   "source": [
    "# исследуем зависимость между шириной лепестков (petal_width ) и ширииной чашелистика (sepal_width) у видов\n",
    "sns.set_style('darkgrid')\n",
    "plt.title('Зависимость между ширинами лепестков и чашелистика',size=16)\n",
    "plt.xlabel('ширина лепестков',size=12)\n",
    "plt.ylabel('ширина чашелистика',size=12)\n",
    "sns.scatterplot(x='PetalWidthCm', y='SepalWidthCm', data=iris2, hue='Species', edgecolor='black', palette='cubehelix')\n",
    "plt.show()"
   ]
  },
  {
   "cell_type": "markdown",
   "id": "48c04450",
   "metadata": {},
   "source": [
    "Далее начинаем готовить модели: model1 = логистическая регрессия, model2 = деревья решений, model3 = метод опорных векторов , model4 = случайный лес\n"
   ]
  },
  {
   "cell_type": "code",
   "execution_count": 68,
   "id": "8e49029f",
   "metadata": {},
   "outputs": [],
   "source": [
    "iris2[\"Species\"] = iris2[\"Species\"].astype('category') #добавим числовое выражение категории"
   ]
  },
  {
   "cell_type": "code",
   "execution_count": 69,
   "id": "35e864a0",
   "metadata": {},
   "outputs": [
    {
     "data": {
      "text/html": [
       "<div>\n",
       "<style scoped>\n",
       "    .dataframe tbody tr th:only-of-type {\n",
       "        vertical-align: middle;\n",
       "    }\n",
       "\n",
       "    .dataframe tbody tr th {\n",
       "        vertical-align: top;\n",
       "    }\n",
       "\n",
       "    .dataframe thead th {\n",
       "        text-align: right;\n",
       "    }\n",
       "</style>\n",
       "<table border=\"1\" class=\"dataframe\">\n",
       "  <thead>\n",
       "    <tr style=\"text-align: right;\">\n",
       "      <th></th>\n",
       "      <th>Id</th>\n",
       "      <th>SepalLengthCm</th>\n",
       "      <th>SepalWidthCm</th>\n",
       "      <th>PetalLengthCm</th>\n",
       "      <th>PetalWidthCm</th>\n",
       "      <th>Species</th>\n",
       "      <th>species_cat</th>\n",
       "    </tr>\n",
       "  </thead>\n",
       "  <tbody>\n",
       "    <tr>\n",
       "      <th>0</th>\n",
       "      <td>1</td>\n",
       "      <td>5.1</td>\n",
       "      <td>3.5</td>\n",
       "      <td>1.4</td>\n",
       "      <td>0.2</td>\n",
       "      <td>Iris-setosa</td>\n",
       "      <td>0</td>\n",
       "    </tr>\n",
       "    <tr>\n",
       "      <th>1</th>\n",
       "      <td>2</td>\n",
       "      <td>4.9</td>\n",
       "      <td>3.0</td>\n",
       "      <td>1.4</td>\n",
       "      <td>0.2</td>\n",
       "      <td>Iris-setosa</td>\n",
       "      <td>0</td>\n",
       "    </tr>\n",
       "    <tr>\n",
       "      <th>2</th>\n",
       "      <td>3</td>\n",
       "      <td>4.7</td>\n",
       "      <td>3.2</td>\n",
       "      <td>1.3</td>\n",
       "      <td>0.2</td>\n",
       "      <td>Iris-setosa</td>\n",
       "      <td>0</td>\n",
       "    </tr>\n",
       "    <tr>\n",
       "      <th>3</th>\n",
       "      <td>4</td>\n",
       "      <td>4.6</td>\n",
       "      <td>3.1</td>\n",
       "      <td>1.5</td>\n",
       "      <td>0.2</td>\n",
       "      <td>Iris-setosa</td>\n",
       "      <td>0</td>\n",
       "    </tr>\n",
       "    <tr>\n",
       "      <th>4</th>\n",
       "      <td>5</td>\n",
       "      <td>5.0</td>\n",
       "      <td>3.6</td>\n",
       "      <td>1.4</td>\n",
       "      <td>0.2</td>\n",
       "      <td>Iris-setosa</td>\n",
       "      <td>0</td>\n",
       "    </tr>\n",
       "  </tbody>\n",
       "</table>\n",
       "</div>"
      ],
      "text/plain": [
       "   Id  SepalLengthCm  SepalWidthCm  PetalLengthCm  PetalWidthCm      Species  \\\n",
       "0   1            5.1           3.5            1.4           0.2  Iris-setosa   \n",
       "1   2            4.9           3.0            1.4           0.2  Iris-setosa   \n",
       "2   3            4.7           3.2            1.3           0.2  Iris-setosa   \n",
       "3   4            4.6           3.1            1.5           0.2  Iris-setosa   \n",
       "4   5            5.0           3.6            1.4           0.2  Iris-setosa   \n",
       "\n",
       "   species_cat  \n",
       "0            0  \n",
       "1            0  \n",
       "2            0  \n",
       "3            0  \n",
       "4            0  "
      ]
     },
     "execution_count": 69,
     "metadata": {},
     "output_type": "execute_result"
    }
   ],
   "source": [
    "iris2[\"species_cat\"] = iris2[\"Species\"].cat.codes\n",
    "iris2.head()"
   ]
  },
  {
   "cell_type": "code",
   "execution_count": 70,
   "id": "bc8b1e48",
   "metadata": {},
   "outputs": [],
   "source": [
    "# логистическая регрессия - model1\n",
    "x1 = iris2[['SepalLengthCm','SepalWidthCm','PetalLengthCm','PetalWidthCm']] #формируем данные для обучения\n",
    "y1 = iris2[['species_cat']].values.ravel() #формируем цели обучения"
   ]
  },
  {
   "cell_type": "code",
   "execution_count": 71,
   "id": "856154b3",
   "metadata": {},
   "outputs": [
    {
     "data": {
      "text/plain": [
       "LogisticRegression()"
      ]
     },
     "execution_count": 71,
     "metadata": {},
     "output_type": "execute_result"
    }
   ],
   "source": [
    "x_train1, x_test1, y_train1, y_test1 = train_test_split(x1, y1, train_size=0.8) #разбиваем датасет на фрагменты\n",
    "model1 = LogisticRegression()\n",
    "model1.fit(x_train1, y_train1)"
   ]
  },
  {
   "cell_type": "code",
   "execution_count": 72,
   "id": "8944f512",
   "metadata": {},
   "outputs": [],
   "source": [
    "y_pred1 = model1.predict(x_test1)"
   ]
  },
  {
   "cell_type": "code",
   "execution_count": 73,
   "id": "94e56220",
   "metadata": {},
   "outputs": [
    {
     "data": {
      "text/plain": [
       "array([[11,  0,  0],\n",
       "       [ 0,  7,  1],\n",
       "       [ 0,  1, 10]])"
      ]
     },
     "execution_count": 73,
     "metadata": {},
     "output_type": "execute_result"
    }
   ],
   "source": [
    "confusion_matrix(y_test1, y_pred1)"
   ]
  },
  {
   "cell_type": "code",
   "execution_count": 74,
   "id": "18a448ef",
   "metadata": {},
   "outputs": [
    {
     "name": "stdout",
     "output_type": "stream",
     "text": [
      "Recall Score :  0.9280303030303031\n",
      "Accuracy :  0.9333333333333333\n",
      "Precision :  0.9280303030303031\n",
      "F1-Score :  0.9280303030303031\n"
     ]
    }
   ],
   "source": [
    "#выводим все метрики\n",
    "print(\"Recall Score : \",recall_score(y_test1, y_pred1, average='macro'))\n",
    "print(\"Accuracy : \", accuracy_score(y_test1, y_pred1))\n",
    "print(\"Precision : \", precision_score(y_test1, y_pred1, average='macro'))\n",
    "print(\"F1-Score : \", f1_score(y_test1, y_pred1, average='macro'))"
   ]
  },
  {
   "cell_type": "code",
   "execution_count": 75,
   "id": "4ddddb05",
   "metadata": {},
   "outputs": [
    {
     "data": {
      "text/plain": [
       "DecisionTreeClassifier(max_depth=2)"
      ]
     },
     "execution_count": 75,
     "metadata": {},
     "output_type": "execute_result"
    }
   ],
   "source": [
    "# деревья решений - model 2\n",
    "x2 = iris2[['SepalLengthCm','SepalWidthCm','PetalLengthCm','PetalWidthCm']] #формируем данные для обучения\n",
    "y2 = iris2[['species_cat']].values.ravel() #формируем цели обучения\n",
    "x_train2, x_test2, y_train2, y_test2 = train_test_split(x2, y2, train_size=0.8) #разбиваем датасет на фрагменты\n",
    "model2 = DecisionTreeClassifier(criterion='gini',max_depth=2)\n",
    "model2.fit(x_train2, y_train2)"
   ]
  },
  {
   "cell_type": "code",
   "execution_count": 76,
   "id": "cdfcaab0",
   "metadata": {},
   "outputs": [],
   "source": [
    "y_pred2 = model2.predict(x_test2)"
   ]
  },
  {
   "cell_type": "code",
   "execution_count": 77,
   "id": "d306b69e",
   "metadata": {},
   "outputs": [
    {
     "name": "stdout",
     "output_type": "stream",
     "text": [
      "Recall Score :  0.9696969696969697\n",
      "Accuracy :  0.9666666666666667\n",
      "Precision :  0.9743589743589745\n",
      "F1-Score :  0.9707936507936509\n"
     ]
    }
   ],
   "source": [
    "#выводим все метрики\n",
    "print(\"Recall Score : \",recall_score(y_test2, y_pred2, average='macro'))\n",
    "print(\"Accuracy : \", accuracy_score(y_test2, y_pred2))\n",
    "print(\"Precision : \", precision_score(y_test2, y_pred2, average='macro'))\n",
    "print(\"F1-Score : \", f1_score(y_test2, y_pred2, average='macro'))"
   ]
  },
  {
   "cell_type": "code",
   "execution_count": 78,
   "id": "f83fc776",
   "metadata": {},
   "outputs": [
    {
     "data": {
      "text/plain": [
       "SVC()"
      ]
     },
     "execution_count": 78,
     "metadata": {},
     "output_type": "execute_result"
    }
   ],
   "source": [
    "# метод опорных векторов - model 3\n",
    "x3 = iris2[['SepalLengthCm','SepalWidthCm','PetalLengthCm','PetalWidthCm']] #формируем данные для обучения\n",
    "y3 = iris2[['species_cat']].values.ravel() #формируем цели обучения\n",
    "x_train3, x_test3, y_train3, y_test3 = train_test_split(x3, y3, train_size=0.8) #разбиваем датасет на фрагменты\n",
    "model3 = SVC()\n",
    "model3.fit(x_train3, y_train3)"
   ]
  },
  {
   "cell_type": "code",
   "execution_count": 79,
   "id": "a6730f85",
   "metadata": {},
   "outputs": [],
   "source": [
    "y_pred3 = model3.predict(x_test3)"
   ]
  },
  {
   "cell_type": "code",
   "execution_count": 80,
   "id": "66909476",
   "metadata": {},
   "outputs": [
    {
     "name": "stdout",
     "output_type": "stream",
     "text": [
      "Recall Score :  0.9074074074074074\n",
      "Accuracy :  0.9\n",
      "Precision :  0.903030303030303\n",
      "F1-Score :  0.9038901601830663\n"
     ]
    }
   ],
   "source": [
    "#выводим все метрики\n",
    "print(\"Recall Score : \",recall_score(y_test3, y_pred3, average='macro'))\n",
    "print(\"Accuracy : \", accuracy_score(y_test3, y_pred3))\n",
    "print(\"Precision : \", precision_score(y_test3, y_pred3, average='macro'))\n",
    "print(\"F1-Score : \", f1_score(y_test3, y_pred3, average='macro'))"
   ]
  },
  {
   "cell_type": "code",
   "execution_count": 81,
   "id": "f69338b7",
   "metadata": {},
   "outputs": [
    {
     "data": {
      "text/plain": [
       "RandomForestClassifier()"
      ]
     },
     "execution_count": 81,
     "metadata": {},
     "output_type": "execute_result"
    }
   ],
   "source": [
    "# случайный лес - model 4\n",
    "x4 = iris2[['SepalLengthCm','SepalWidthCm','PetalLengthCm','PetalWidthCm']] #формируем данные для обучения\n",
    "y4 = iris2[['species_cat']].values.ravel() #формируем цели обучения\n",
    "x_train4, x_test4, y_train4, y_test4 = train_test_split(x4, y4) #разбиваем датасет на фрагменты\n",
    "model4 =  RandomForestClassifier()\n",
    "model4.fit(x_train4, y_train4)\n"
   ]
  },
  {
   "cell_type": "code",
   "execution_count": 82,
   "id": "06a47109",
   "metadata": {},
   "outputs": [],
   "source": [
    "y_pred4 = model4.predict(x_test4)"
   ]
  },
  {
   "cell_type": "code",
   "execution_count": 83,
   "id": "52c2f48e",
   "metadata": {},
   "outputs": [
    {
     "name": "stdout",
     "output_type": "stream",
     "text": [
      "Recall Score :  0.9607843137254902\n",
      "Accuracy :  0.9473684210526315\n",
      "Precision :  0.9444444444444445\n",
      "F1-Score :  0.9488636363636364\n"
     ]
    }
   ],
   "source": [
    "print(\"Recall Score : \",recall_score(y_test4, y_pred4, average='macro'))\n",
    "print(\"Accuracy : \", accuracy_score(y_test4, y_pred4))\n",
    "print(\"Precision : \", precision_score(y_test4, y_pred4, average='macro'))\n",
    "print(\"F1-Score : \", f1_score(y_test4, y_pred4, average='macro'))"
   ]
  },
  {
   "cell_type": "markdown",
   "id": "363fb286",
   "metadata": {},
   "source": [
    "Как выбрать лучшую модель по статистическим параметрам я не понял!! - нужна\n",
    "консультация. Но выберем для этапа hard модель по наибольшим параметрам Precision - это будет model2 = DecisionTree "
   ]
  },
  {
   "cell_type": "markdown",
   "id": "10f63546",
   "metadata": {},
   "source": [
    "-------------------------------------------------------------------------------------------------------------------\n",
    "# Hard"
   ]
  },
  {
   "cell_type": "code",
   "execution_count": 85,
   "id": "96868c54",
   "metadata": {},
   "outputs": [],
   "source": [
    "# метод опорных векторов - model 2"
   ]
  },
  {
   "cell_type": "code",
   "execution_count": 48,
   "id": "8c2267be",
   "metadata": {},
   "outputs": [],
   "source": [
    "import joblib\n",
    "import click"
   ]
  },
  {
   "cell_type": "code",
   "execution_count": 84,
   "id": "755bcadb",
   "metadata": {
    "scrolled": true
   },
   "outputs": [
    {
     "data": {
      "text/plain": [
       "['/home/euegene/learn/DS_Learn/Data/DSTmodel.sav']"
      ]
     },
     "execution_count": 84,
     "metadata": {},
     "output_type": "execute_result"
    }
   ],
   "source": [
    "# сохраняем обученную модель в файл\n",
    "filename = '/home/euegene/learn/DS_Learn/Data/DSTmodel.sav'\n",
    "joblib.dump(model2, filename)"
   ]
  },
  {
   "cell_type": "markdown",
   "id": "58bef0eb",
   "metadata": {},
   "source": [
    "Содержание файла скрипта:\n",
    "\n",
    "import click\n",
    "import joblib\n",
    "import numpy as np\n",
    "import pandas as pd\n",
    "from sklearn.model_selection import train_test_split\n",
    "from sklearn.tree import DecisionTreeClassifier, plot_tree\n",
    "@click.command()\n",
    "@click.option('--inputpath', help='Path to input data file')\n",
    "@click.option('--modelpath', help='Path to model file')\n",
    "@click.option('--predictpath', help='Path to the prediction')\n",
    "def prediction(inputpath,modelpath,predictpath):\n",
    "\tmodel = joblib.load(modelpath)\n",
    "\tdata = pd.read_csv(inputpath)\n",
    "\ty_pred = model.predict(data)\n",
    "\tfinal = pd.DataFrame(data=y_pred)\n",
    "\tfinal.to_csv(predictpath)\n",
    "if __name__ == '__main__':\n",
    "    prediction()"
   ]
  },
  {
   "cell_type": "markdown",
   "id": "734459f9",
   "metadata": {},
   "source": []
  },
  {
   "cell_type": "markdown",
   "id": "05f83f2d",
   "metadata": {},
   "source": [
    "запуск скрипта:\n",
    "(my-env) euegene@AEPC:~/learn/DS_Learn$ python click_script.py --inputpath='/home/euegene/learn/DS_Learn/Data/iris_for_script.csv' --modelpath='/home/euegene/learn/DS_Learn/Data/DSTmodel.sav' --predictpath='/home/euegene/learn/DS_Learn/Data/out.csv'\n",
    "    "
   ]
  }
 ],
 "metadata": {
  "kernelspec": {
   "display_name": "Python 3 (ipykernel)",
   "language": "python",
   "name": "python3"
  },
  "language_info": {
   "codemirror_mode": {
    "name": "ipython",
    "version": 3
   },
   "file_extension": ".py",
   "mimetype": "text/x-python",
   "name": "python",
   "nbconvert_exporter": "python",
   "pygments_lexer": "ipython3",
   "version": "3.8.13"
  }
 },
 "nbformat": 4,
 "nbformat_minor": 5
}
