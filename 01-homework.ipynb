{
 "cells": [
  {
   "cell_type": "markdown",
   "metadata": {},
   "source": [
    "# EASY: \n",
    "\n",
    "Нужно написать функцию, которая на вход получает список из чисел, а на выходе дает список, где каждое число возведено в квадрат. Решать при помощи цикла.\n",
    "\n",
    "Попробовать на вход:\n",
    "\n",
    "1.\n",
    "list(range(10))\n",
    "\n",
    "2.\n",
    "list(range(100))\n",
    "\n",
    "3.\n",
    "list()\n"
   ]
  },
  {
   "cell_type": "markdown",
   "metadata": {},
   "source": [
    "Решение:"
   ]
  },
  {
   "cell_type": "code",
   "execution_count": 203,
   "metadata": {},
   "outputs": [],
   "source": [
    "def squarenumbers(input):\n",
    "    output = []\n",
    "    for i in input:\n",
    "        output.append(i**2)\n",
    "    return print(output)"
   ]
  },
  {
   "cell_type": "code",
   "execution_count": 204,
   "metadata": {},
   "outputs": [
    {
     "name": "stdout",
     "output_type": "stream",
     "text": [
      "[0, 1, 4, 9, 16, 25, 36, 49, 64, 81]\n"
     ]
    }
   ],
   "source": [
    "squarenumbers(list(range(10)))"
   ]
  },
  {
   "cell_type": "code",
   "execution_count": 205,
   "metadata": {},
   "outputs": [
    {
     "name": "stdout",
     "output_type": "stream",
     "text": [
      "[0, 1, 4, 9, 16, 25, 36, 49, 64, 81, 100, 121, 144, 169, 196, 225, 256, 289, 324, 361, 400, 441, 484, 529, 576, 625, 676, 729, 784, 841, 900, 961, 1024, 1089, 1156, 1225, 1296, 1369, 1444, 1521, 1600, 1681, 1764, 1849, 1936, 2025, 2116, 2209, 2304, 2401, 2500, 2601, 2704, 2809, 2916, 3025, 3136, 3249, 3364, 3481, 3600, 3721, 3844, 3969, 4096, 4225, 4356, 4489, 4624, 4761, 4900, 5041, 5184, 5329, 5476, 5625, 5776, 5929, 6084, 6241, 6400, 6561, 6724, 6889, 7056, 7225, 7396, 7569, 7744, 7921, 8100, 8281, 8464, 8649, 8836, 9025, 9216, 9409, 9604, 9801]\n"
     ]
    }
   ],
   "source": [
    "squarenumbers(list(range(100)))"
   ]
  },
  {
   "cell_type": "code",
   "execution_count": 206,
   "metadata": {},
   "outputs": [
    {
     "name": "stdout",
     "output_type": "stream",
     "text": [
      "[]\n"
     ]
    }
   ],
   "source": [
    "squarenumbers(list())"
   ]
  },
  {
   "cell_type": "markdown",
   "metadata": {},
   "source": [
    "# Normal\n",
    "Тоже самое, но на этот раз без цикла (смотрим раздел с функциями из ноутбука, который разбирали в классе). Сравнить скорость выполнения первого и второго варианта."
   ]
  },
  {
   "cell_type": "markdown",
   "metadata": {},
   "source": [
    "Решение"
   ]
  },
  {
   "cell_type": "code",
   "execution_count": 207,
   "metadata": {},
   "outputs": [],
   "source": [
    "def squarenumbers_norm(input):\n",
    "    output= [i ** 2 for i in input]\n",
    "    return print(output)"
   ]
  },
  {
   "cell_type": "code",
   "execution_count": 208,
   "metadata": {},
   "outputs": [
    {
     "name": "stdout",
     "output_type": "stream",
     "text": [
      "[0, 1, 4, 9, 16, 25, 36, 49, 64, 81]\n"
     ]
    }
   ],
   "source": [
    "squarenumbers_norm(list(range(10)))"
   ]
  },
  {
   "cell_type": "code",
   "execution_count": 209,
   "metadata": {},
   "outputs": [
    {
     "name": "stdout",
     "output_type": "stream",
     "text": [
      "[0, 1, 4, 9, 16, 25, 36, 49, 64, 81, 100, 121, 144, 169, 196, 225, 256, 289, 324, 361, 400, 441, 484, 529, 576, 625, 676, 729, 784, 841, 900, 961, 1024, 1089, 1156, 1225, 1296, 1369, 1444, 1521, 1600, 1681, 1764, 1849, 1936, 2025, 2116, 2209, 2304, 2401, 2500, 2601, 2704, 2809, 2916, 3025, 3136, 3249, 3364, 3481, 3600, 3721, 3844, 3969, 4096, 4225, 4356, 4489, 4624, 4761, 4900, 5041, 5184, 5329, 5476, 5625, 5776, 5929, 6084, 6241, 6400, 6561, 6724, 6889, 7056, 7225, 7396, 7569, 7744, 7921, 8100, 8281, 8464, 8649, 8836, 9025, 9216, 9409, 9604, 9801]\n"
     ]
    }
   ],
   "source": [
    "squarenumbers_norm(list(range(100)))"
   ]
  },
  {
   "cell_type": "code",
   "execution_count": 210,
   "metadata": {},
   "outputs": [
    {
     "name": "stdout",
     "output_type": "stream",
     "text": [
      "[]\n"
     ]
    }
   ],
   "source": [
    "squarenumbers_norm(list())"
   ]
  },
  {
   "cell_type": "markdown",
   "metadata": {},
   "source": [
    "# Hard\n",
    "Написать функцию, которая на вход принимает список, а возвращает словарь со среднием, медианой и модой, например вот такой: {\"mean\": ..., \"median\": ..., \"mode\": ...}. На следующем занятии разберем как это сделать при помощи библиотек, а пока нужно реализовать просто по формулам.\n",
    "\n",
    "Пример:\n",
    "\n",
    "func([0, 1, 1, 10, 5, 4, 3])\n",
    "\n",
    "Должно вернуть: {\"mean\": 3.4285, \"median\": 3, \"mode\": 1}"
   ]
  },
  {
   "cell_type": "markdown",
   "metadata": {},
   "source": [
    "Решение"
   ]
  },
  {
   "cell_type": "code",
   "execution_count": 211,
   "metadata": {},
   "outputs": [],
   "source": [
    "import math\n",
    "\n",
    "def hardskill(input):\n",
    "\n",
    "# СРЕДНЕЕ m\n",
    "   \n",
    "    m = round((sum(input) / len(input)),4) #считаем длину списка, суммируем элементы, находим среднее , округляем\n",
    "\n",
    "# --------------------------------------------------------------------------\n",
    "\n",
    "# МЕДИАНА med - \n",
    "    \n",
    "    input_arr=[]\n",
    "    input_arr = sorted(input) # делаем список упорядоченным\n",
    "    x = len(input)%2 # определяем четное или нечетное кол-во элементов в списке\n",
    "\n",
    "    # далее имеем четный или нечетный варианты расчета медианы:\n",
    "\n",
    "    # 1.нечетный\n",
    "    \n",
    "    if x == 1:\n",
    "        n= math.ceil((len(input)/2)) #нужно обязательно округлить вверх - для этого импортируем math\n",
    "        med = input_arr[n-1] #тогда медиана будет посередине списка\n",
    "                \n",
    "# 2.четный\n",
    "    elif x == 0:\n",
    "        n= math.ceil((len(input)/2))\n",
    "        med = (input_arr[n-1]+input_arr[n])/2 #тогда медиана будет как среднее между двумя средними значениями\n",
    "\n",
    "# ---------------------------------------------------------------------------\n",
    "# МОДА mod - индекс элемента c максимальной частотой из входного списка\n",
    "\n",
    " \n",
    "    digits_count= {input[i]: input.count(input[i]) for i in range(len(input))} #считаем сколько раз повторяются элементы в списке\n",
    "\n",
    "    mode_candidates = {} # делаем словарь кандидатов в моды\n",
    "    \n",
    "    for key,value in digits_count.items():\n",
    "        if value > 1:\n",
    "            mode_candidates[key] = value\n",
    "                \n",
    "    dig_max = max(mode_candidates.values()) # находим максимальное значение в словаре \n",
    "\n",
    "    for key,value in mode_candidates.items(): # находим  ключ по максимальному значению - это и будет мода\n",
    "        if value == dig_max:\n",
    "            mod = key\n",
    "    \n",
    "     \n",
    "\n",
    "    output_dict = {\"mean\": m , \"median\": med, \"mode\": mod} #   формируем словать из рассчитанных значений\n",
    "    \n",
    "    \n",
    "    return output_dict\n",
    "      "
   ]
  },
  {
   "cell_type": "code",
   "execution_count": 212,
   "metadata": {
    "scrolled": false
   },
   "outputs": [
    {
     "data": {
      "text/plain": [
       "{'mean': 3.4286, 'median': 3, 'mode': 1}"
      ]
     },
     "execution_count": 212,
     "metadata": {},
     "output_type": "execute_result"
    }
   ],
   "source": [
    "hardskill([0, 1, 1, 10, 5, 4, 3])"
   ]
  }
 ],
 "metadata": {
  "kernelspec": {
   "display_name": "Python 3",
   "language": "python",
   "name": "python3"
  },
  "language_info": {
   "codemirror_mode": {
    "name": "ipython",
    "version": 3
   },
   "file_extension": ".py",
   "mimetype": "text/x-python",
   "name": "python",
   "nbconvert_exporter": "python",
   "pygments_lexer": "ipython3",
   "version": "3.7.0"
  }
 },
 "nbformat": 4,
 "nbformat_minor": 2
}
